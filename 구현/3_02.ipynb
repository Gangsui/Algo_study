{
 "cells": [
  {
   "cell_type": "code",
   "execution_count": 10,
   "metadata": {},
   "outputs": [
    {
     "name": "stdout",
     "output_type": "stream",
     "text": [
      "1 8\n"
     ]
    }
   ],
   "source": [
    "n=int(input())\n",
    "x,y=1,1\n",
    "plans=input().split()\n",
    "\n",
    "\n",
    "for plan in plans:\n",
    "    if plan=='R':\n",
    "        if y<n:\n",
    "            y+=1\n",
    "    elif plan==\"L\":\n",
    "        if y<1:\n",
    "            y-=1\n",
    "    elif plan==\"U\":\n",
    "        if x<1:\n",
    "            x-=1\n",
    "    elif plan==\"D\":\n",
    "        if x<n:\n",
    "            x+=1\n",
    "\n",
    "print(x,y) \n"
   ]
  },
  {
   "cell_type": "code",
   "execution_count": 3,
   "metadata": {},
   "outputs": [
    {
     "name": "stdout",
     "output_type": "stream",
     "text": [
      "1 2\n"
     ]
    }
   ],
   "source": [
    "n=int(input())\n",
    "x,y=1,1\n",
    "plans=input().split()\n",
    "dx=[0,0,-1,1]\n",
    "dy=[-1,1,0,0]\n",
    "move_type=['L','R','U','D']\n",
    "for plan in plans:\n",
    "    for i in range(len(move_type)):\n",
    "        if plan ==move_type[i]:\n",
    "            nx=x+dx[i]\n",
    "            ny=y+dy[i]\n",
    "    if nx<1 or ny<1 or nx> n or ny>n:\n",
    "        continue\n",
    "    x,y=nx,ny\n",
    "\n",
    "print(x,y)\n"
   ]
  },
  {
   "cell_type": "code",
   "execution_count": 12,
   "metadata": {},
   "outputs": [
    {
     "name": "stdout",
     "output_type": "stream",
     "text": [
      "1 0\n"
     ]
    }
   ],
   "source": [
    "n=int(input())\n",
    "x,y=1,1\n",
    "plans=input().split()\n",
    "dy=[-1,1,0,0]\n",
    "dx=[0,0,-1,1]\n",
    "move_type=['L','R','U','D']\n",
    "\n",
    "for plan in plans:\n",
    "    if nx<1 or ny<1 or nx>n or ny >n:\n",
    "        continue\n",
    "\n",
    "    for number in range(len(move_type)):\n",
    "        if plan==move_type[number]:\n",
    "            nx=x+dx[number]\n",
    "            ny=y+dy[number]\n",
    "    \n",
    "    x,y=nx,ny\n",
    "\n",
    "print(nx,ny)\n",
    "\n",
    "\n"
   ]
  }
 ],
 "metadata": {
  "kernelspec": {
   "display_name": "Yunseo",
   "language": "python",
   "name": "python3"
  },
  "language_info": {
   "codemirror_mode": {
    "name": "ipython",
    "version": 3
   },
   "file_extension": ".py",
   "mimetype": "text/x-python",
   "name": "python",
   "nbconvert_exporter": "python",
   "pygments_lexer": "ipython3",
   "version": "3.10.4"
  },
  "orig_nbformat": 4,
  "vscode": {
   "interpreter": {
    "hash": "77880f3ef863850a748ceffb352d365bd5dbc8d9046ad8950b8e89cd12b83bea"
   }
  }
 },
 "nbformat": 4,
 "nbformat_minor": 2
}
